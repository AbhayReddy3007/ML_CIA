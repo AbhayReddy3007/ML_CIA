{
 "cells": [
  {
   "cell_type": "code",
   "execution_count": 1,
   "id": "b1f51d25",
   "metadata": {},
   "outputs": [],
   "source": [
    "import numpy as np\n",
    "from tensorflow import keras\n",
    "from tensorflow.keras import layers\n",
    "import pickle"
   ]
  },
  {
   "cell_type": "code",
   "execution_count": 2,
   "id": "da76917e",
   "metadata": {},
   "outputs": [
    {
     "name": "stdout",
     "output_type": "stream",
     "text": [
      "Downloading data from https://www.cs.toronto.edu/~kriz/cifar-10-python.tar.gz\n",
      "170498071/170498071 [==============================] - 130s 1us/step\n"
     ]
    }
   ],
   "source": [
    "(xtr,ytr),(xtst,ytst) = keras.datasets.cifar10.load_data()"
   ]
  },
  {
   "cell_type": "code",
   "execution_count": 3,
   "id": "1a9fdf3f",
   "metadata": {},
   "outputs": [],
   "source": [
    "xtr = xtr.astype('float32')/255\n",
    "xtst = xtst.astype('float32')/255\n",
    "xtr = np.expand_dims(xtr,-1)\n",
    "xtst = np.expand_dims(xtst,-1)"
   ]
  },
  {
   "cell_type": "code",
   "execution_count": 4,
   "id": "b2e5322f",
   "metadata": {},
   "outputs": [],
   "source": [
    "ytr = keras.utils.to_categorical(ytr, 10)\n",
    "ytst = keras.utils.to_categorical(ytst, 10)"
   ]
  },
  {
   "cell_type": "code",
   "execution_count": 5,
   "id": "33ca17c0",
   "metadata": {},
   "outputs": [],
   "source": [
    "model = keras.Sequential(\n",
    "    [\n",
    "     keras.Input(shape=(32,32,3)),\n",
    "     layers.Conv2D(32,(3,3),activation='relu'),\n",
    "     layers.MaxPooling2D((2,2)),\n",
    "     layers.Conv2D(64,(3,3),activation='relu'),\n",
    "     layers.MaxPooling2D((2,2)),\n",
    "     layers.Conv2D(128,(3,3),activation='relu'),\n",
    "     layers.MaxPooling2D((2,2)),\n",
    "     layers.Flatten(),\n",
    "     layers.Dense(64,activation='relu'),\n",
    "     layers.Dropout(0.5),\n",
    "     layers.Dense(10,activation='softmax')\n",
    "    ])"
   ]
  },
  {
   "cell_type": "code",
   "execution_count": 6,
   "id": "5223e27d",
   "metadata": {},
   "outputs": [
    {
     "name": "stdout",
     "output_type": "stream",
     "text": [
      "Epoch 1/20\n",
      "352/352 [==============================] - 21s 57ms/step - loss: 1.8582 - accuracy: 0.3048 - val_loss: 1.5145 - val_accuracy: 0.4578\n",
      "Epoch 2/20\n",
      "352/352 [==============================] - 20s 56ms/step - loss: 1.5403 - accuracy: 0.4410 - val_loss: 1.3269 - val_accuracy: 0.5212\n",
      "Epoch 3/20\n",
      "352/352 [==============================] - 20s 56ms/step - loss: 1.4023 - accuracy: 0.4955 - val_loss: 1.2473 - val_accuracy: 0.5552\n",
      "Epoch 4/20\n",
      "352/352 [==============================] - 20s 56ms/step - loss: 1.3011 - accuracy: 0.5358 - val_loss: 1.1517 - val_accuracy: 0.6104\n",
      "Epoch 5/20\n",
      "352/352 [==============================] - 20s 56ms/step - loss: 1.2313 - accuracy: 0.5676 - val_loss: 1.1026 - val_accuracy: 0.6182\n",
      "Epoch 6/20\n",
      "352/352 [==============================] - 20s 56ms/step - loss: 1.1644 - accuracy: 0.5932 - val_loss: 1.0290 - val_accuracy: 0.6418\n",
      "Epoch 7/20\n",
      "352/352 [==============================] - 20s 56ms/step - loss: 1.1035 - accuracy: 0.6140 - val_loss: 0.9810 - val_accuracy: 0.6648\n",
      "Epoch 8/20\n",
      "352/352 [==============================] - 19s 55ms/step - loss: 1.0461 - accuracy: 0.6341 - val_loss: 0.9291 - val_accuracy: 0.6824\n",
      "Epoch 9/20\n",
      "352/352 [==============================] - 19s 55ms/step - loss: 1.0158 - accuracy: 0.6466 - val_loss: 0.9527 - val_accuracy: 0.6762\n",
      "Epoch 10/20\n",
      "352/352 [==============================] - 20s 57ms/step - loss: 0.9732 - accuracy: 0.6643 - val_loss: 0.8701 - val_accuracy: 0.7048\n",
      "Epoch 11/20\n",
      "352/352 [==============================] - 20s 56ms/step - loss: 0.9394 - accuracy: 0.6749 - val_loss: 0.8607 - val_accuracy: 0.7056\n",
      "Epoch 12/20\n",
      "352/352 [==============================] - 19s 55ms/step - loss: 0.9033 - accuracy: 0.6872 - val_loss: 0.8698 - val_accuracy: 0.7004\n",
      "Epoch 13/20\n",
      "352/352 [==============================] - 19s 54ms/step - loss: 0.8754 - accuracy: 0.6957 - val_loss: 0.8362 - val_accuracy: 0.7132\n",
      "Epoch 14/20\n",
      "352/352 [==============================] - 19s 53ms/step - loss: 0.8475 - accuracy: 0.7062 - val_loss: 0.8415 - val_accuracy: 0.7104\n",
      "Epoch 15/20\n",
      "352/352 [==============================] - 19s 53ms/step - loss: 0.8260 - accuracy: 0.7136 - val_loss: 0.8966 - val_accuracy: 0.7002\n",
      "Epoch 16/20\n",
      "352/352 [==============================] - 19s 53ms/step - loss: 0.7972 - accuracy: 0.7246 - val_loss: 0.8292 - val_accuracy: 0.7210\n",
      "Epoch 17/20\n",
      "352/352 [==============================] - 19s 54ms/step - loss: 0.7755 - accuracy: 0.7292 - val_loss: 0.8613 - val_accuracy: 0.7112\n",
      "Epoch 18/20\n",
      "352/352 [==============================] - 19s 54ms/step - loss: 0.7510 - accuracy: 0.7388 - val_loss: 0.8216 - val_accuracy: 0.7252\n",
      "Epoch 19/20\n",
      "352/352 [==============================] - 19s 54ms/step - loss: 0.7360 - accuracy: 0.7425 - val_loss: 0.7879 - val_accuracy: 0.7302\n",
      "Epoch 20/20\n",
      "352/352 [==============================] - 19s 54ms/step - loss: 0.7046 - accuracy: 0.7529 - val_loss: 0.8046 - val_accuracy: 0.7316\n"
     ]
    }
   ],
   "source": [
    "model.compile(loss='categorical_crossentropy',optimizer='adam',metrics=['accuracy'])\n",
    "model.fit(xtr,ytr,batch_size=128,epochs=20,validation_split=0.1)\n",
    "model.save('model.h5')"
   ]
  },
  {
   "cell_type": "code",
   "execution_count": 7,
   "id": "724ba242",
   "metadata": {},
   "outputs": [],
   "source": [
    "model.save('model.h5')"
   ]
  },
  {
   "cell_type": "code",
   "execution_count": null,
   "id": "c470dc4e",
   "metadata": {},
   "outputs": [],
   "source": []
  }
 ],
 "metadata": {
  "kernelspec": {
   "display_name": "Python 3 (ipykernel)",
   "language": "python",
   "name": "python3"
  },
  "language_info": {
   "codemirror_mode": {
    "name": "ipython",
    "version": 3
   },
   "file_extension": ".py",
   "mimetype": "text/x-python",
   "name": "python",
   "nbconvert_exporter": "python",
   "pygments_lexer": "ipython3",
   "version": "3.9.13"
  }
 },
 "nbformat": 4,
 "nbformat_minor": 5
}
